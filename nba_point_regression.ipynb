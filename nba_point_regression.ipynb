{
 "cells": [
  {
   "cell_type": "markdown",
   "metadata": {},
   "source": [
    "# Linear Regression Using Python's NBA API (Beginner Project)"
   ]
  },
  {
   "cell_type": "markdown",
   "metadata": {},
   "source": [
    "## Introduction"
   ]
  },
  {
   "cell_type": "markdown",
   "metadata": {},
   "source": [
    "The use of statistics has fundamentally changed the NBA over the last decade. Teams are using dozens of advanced metrics to gauge how well their players are performing as well as how college prospects will perform in the future. Statistics have also contributed towards a shift in coaching philosophy. For example, the midrange jumper has disappeared in favor of the three-point shot which scores more points per attempt. It can be really fun to explore some of these Basketball statistics but challenging for a beginner Python programmer to approach.\n",
    "\n",
    "For this project, we will use NBA season statistics to build a basic linear regression model. Our x-variable will be the number of field goal attempts (FGA) taken and the y-variable will be the average number of points per game (PPG) scored by each player. Instead of having a row for each game player, we will take season averages. This way, each row represents a single player's season average. We'll keep things simple in this project by focusing on how to make an API call with nba_api and how to use ScitKit-Learn to create a linear regression. Our end product will be a visualization and model that will help us understand the relationship between attempting a shot and scoring a point. Luckily for us, this is a fairly linear relationship. In the future, we can expand upon the model by including more variables, optimizing the model's parameters, or choosing a more interesting y-variable. \n"
   ]
  },
  {
   "cell_type": "markdown",
   "metadata": {},
   "source": [
    "#### Prerequisites:\n",
    "*This is a beginner project that is easy enough for any new Python user*\n",
    "<br>\n",
    "* You must be comfortable downloading some packages\n",
    "\n",
    "    \n",
    "#### Packages:\n",
    "* Pandas\n",
    "* Numpy\n",
    "* Sklearn\n",
    "* requests\n",
    "* nba_api ([found here](https://pypi.org/project/nba-api/)) \n",
    "* matplotlib"
   ]
  },
  {
   "cell_type": "markdown",
   "metadata": {},
   "source": [
    "## Loading Data using nba_api\n",
    "\n",
    "We'll use the nba_api library to get data for the current NBA season. Here's a [link to the package's website](https://pypi.org/project/nba-api/) so you can read more of the details. This library is helpful for anyone working on Basketball-based projects. It simplifies the process of getting data from the NBA.com/stats website by handling the heavy lifting behind the scenes. You should be able to find any Basketball stat you need from the [large number of datasets collected by the NBA](https://github.com/swar/nba_api/tree/master/docs/nba_api/stats/endpoints). We will use it to get data about season-scoring from the current year.\n",
    "\n",
    "<br>\n",
    "\n",
    "The first step is to import all of our packages. \n"
   ]
  },
  {
   "cell_type": "code",
   "execution_count": 46,
   "metadata": {},
   "outputs": [],
   "source": [
    "# First we will import our packages\n",
    "import pandas as pd\n",
    "import numpy as np\n",
    "from sklearn import linear_model\n",
    "import requests\n",
    "from nba_api.stats import endpoints\n",
    "from matplotlib import pyplot as plt"
   ]
  },
  {
   "cell_type": "markdown",
   "metadata": {},
   "source": [
    "With all our packages ready, we have to make a request for nba_api to download our dataset. We want information about season totals, so we use the LeagueLeaders() function. If you would like to make a request for another dataset, simply explore the [endpoints folder](https://github.com/swar/nba_api/tree/master/nba_api/stats/endpoints) until you find the data you need. Then, you can make a request using the same structure as below (replace leagueleaders with the appropriate name)."
   ]
  },
  {
   "cell_type": "code",
   "execution_count": 47,
   "metadata": {},
   "outputs": [],
   "source": [
    "# Here we access the leagueleaders module through endpoints & assign the class to \"data\"\n",
    "data = endpoints.leagueleaders.LeagueLeaders() \n",
    "\n",
    "# Our \"data\" variable now has built in functions such as creating a dataframe for our data\n",
    "df = data.league_leaders.get_data_frame()   \n",
    "                                 "
   ]
  },
  {
   "cell_type": "markdown",
   "metadata": {},
   "source": [
    "Once our data is imported, it's helpful to use Panda's .head() function to read the first 5 rows of the dataset."
   ]
  },
  {
   "cell_type": "code",
   "execution_count": 48,
   "metadata": {},
   "outputs": [
    {
     "data": {
      "text/html": [
       "<div>\n",
       "<style scoped>\n",
       "    .dataframe tbody tr th:only-of-type {\n",
       "        vertical-align: middle;\n",
       "    }\n",
       "\n",
       "    .dataframe tbody tr th {\n",
       "        vertical-align: top;\n",
       "    }\n",
       "\n",
       "    .dataframe thead th {\n",
       "        text-align: right;\n",
       "    }\n",
       "</style>\n",
       "<table border=\"1\" class=\"dataframe\">\n",
       "  <thead>\n",
       "    <tr style=\"text-align: right;\">\n",
       "      <th></th>\n",
       "      <th>PLAYER_ID</th>\n",
       "      <th>RANK</th>\n",
       "      <th>PLAYER</th>\n",
       "      <th>TEAM</th>\n",
       "      <th>GP</th>\n",
       "      <th>MIN</th>\n",
       "      <th>FGM</th>\n",
       "      <th>FGA</th>\n",
       "      <th>FG_PCT</th>\n",
       "      <th>FG3M</th>\n",
       "      <th>...</th>\n",
       "      <th>REB</th>\n",
       "      <th>AST</th>\n",
       "      <th>STL</th>\n",
       "      <th>BLK</th>\n",
       "      <th>TOV</th>\n",
       "      <th>PF</th>\n",
       "      <th>PTS</th>\n",
       "      <th>EFF</th>\n",
       "      <th>AST_TOV</th>\n",
       "      <th>STL_TOV</th>\n",
       "    </tr>\n",
       "  </thead>\n",
       "  <tbody>\n",
       "    <tr>\n",
       "      <td>0</td>\n",
       "      <td>201935</td>\n",
       "      <td>1</td>\n",
       "      <td>James Harden</td>\n",
       "      <td>HOU</td>\n",
       "      <td>29</td>\n",
       "      <td>1090</td>\n",
       "      <td>324</td>\n",
       "      <td>722</td>\n",
       "      <td>0.449</td>\n",
       "      <td>149</td>\n",
       "      <td>...</td>\n",
       "      <td>168</td>\n",
       "      <td>218</td>\n",
       "      <td>54</td>\n",
       "      <td>21</td>\n",
       "      <td>142</td>\n",
       "      <td>99</td>\n",
       "      <td>1124</td>\n",
       "      <td>1000</td>\n",
       "      <td>1.54</td>\n",
       "      <td>0.38</td>\n",
       "    </tr>\n",
       "    <tr>\n",
       "      <td>1</td>\n",
       "      <td>203507</td>\n",
       "      <td>2</td>\n",
       "      <td>Giannis Antetokounmpo</td>\n",
       "      <td>MIL</td>\n",
       "      <td>29</td>\n",
       "      <td>902</td>\n",
       "      <td>336</td>\n",
       "      <td>591</td>\n",
       "      <td>0.569</td>\n",
       "      <td>51</td>\n",
       "      <td>...</td>\n",
       "      <td>368</td>\n",
       "      <td>160</td>\n",
       "      <td>37</td>\n",
       "      <td>34</td>\n",
       "      <td>106</td>\n",
       "      <td>91</td>\n",
       "      <td>911</td>\n",
       "      <td>1023</td>\n",
       "      <td>1.51</td>\n",
       "      <td>0.35</td>\n",
       "    </tr>\n",
       "    <tr>\n",
       "      <td>2</td>\n",
       "      <td>1629027</td>\n",
       "      <td>3</td>\n",
       "      <td>Trae Young</td>\n",
       "      <td>ATL</td>\n",
       "      <td>29</td>\n",
       "      <td>1031</td>\n",
       "      <td>276</td>\n",
       "      <td>622</td>\n",
       "      <td>0.444</td>\n",
       "      <td>99</td>\n",
       "      <td>...</td>\n",
       "      <td>127</td>\n",
       "      <td>244</td>\n",
       "      <td>34</td>\n",
       "      <td>2</td>\n",
       "      <td>137</td>\n",
       "      <td>44</td>\n",
       "      <td>841</td>\n",
       "      <td>732</td>\n",
       "      <td>1.78</td>\n",
       "      <td>0.25</td>\n",
       "    </tr>\n",
       "    <tr>\n",
       "      <td>3</td>\n",
       "      <td>203078</td>\n",
       "      <td>4</td>\n",
       "      <td>Bradley Beal</td>\n",
       "      <td>WAS</td>\n",
       "      <td>28</td>\n",
       "      <td>1039</td>\n",
       "      <td>267</td>\n",
       "      <td>601</td>\n",
       "      <td>0.444</td>\n",
       "      <td>75</td>\n",
       "      <td>...</td>\n",
       "      <td>139</td>\n",
       "      <td>195</td>\n",
       "      <td>30</td>\n",
       "      <td>8</td>\n",
       "      <td>97</td>\n",
       "      <td>72</td>\n",
       "      <td>790</td>\n",
       "      <td>696</td>\n",
       "      <td>2.01</td>\n",
       "      <td>0.31</td>\n",
       "    </tr>\n",
       "    <tr>\n",
       "      <td>4</td>\n",
       "      <td>203081</td>\n",
       "      <td>5</td>\n",
       "      <td>Damian Lillard</td>\n",
       "      <td>POR</td>\n",
       "      <td>28</td>\n",
       "      <td>1027</td>\n",
       "      <td>237</td>\n",
       "      <td>529</td>\n",
       "      <td>0.448</td>\n",
       "      <td>94</td>\n",
       "      <td>...</td>\n",
       "      <td>118</td>\n",
       "      <td>211</td>\n",
       "      <td>27</td>\n",
       "      <td>12</td>\n",
       "      <td>83</td>\n",
       "      <td>53</td>\n",
       "      <td>754</td>\n",
       "      <td>725</td>\n",
       "      <td>2.54</td>\n",
       "      <td>0.33</td>\n",
       "    </tr>\n",
       "  </tbody>\n",
       "</table>\n",
       "<p>5 rows × 27 columns</p>\n",
       "</div>"
      ],
      "text/plain": [
       "   PLAYER_ID  RANK                 PLAYER TEAM  GP   MIN  FGM  FGA  FG_PCT  \\\n",
       "0     201935     1           James Harden  HOU  29  1090  324  722   0.449   \n",
       "1     203507     2  Giannis Antetokounmpo  MIL  29   902  336  591   0.569   \n",
       "2    1629027     3             Trae Young  ATL  29  1031  276  622   0.444   \n",
       "3     203078     4           Bradley Beal  WAS  28  1039  267  601   0.444   \n",
       "4     203081     5         Damian Lillard  POR  28  1027  237  529   0.448   \n",
       "\n",
       "   FG3M  ...  REB  AST  STL  BLK  TOV  PF   PTS   EFF  AST_TOV  STL_TOV  \n",
       "0   149  ...  168  218   54   21  142  99  1124  1000     1.54     0.38  \n",
       "1    51  ...  368  160   37   34  106  91   911  1023     1.51     0.35  \n",
       "2    99  ...  127  244   34    2  137  44   841   732     1.78     0.25  \n",
       "3    75  ...  139  195   30    8   97  72   790   696     2.01     0.31  \n",
       "4    94  ...  118  211   27   12   83  53   754   725     2.54     0.33  \n",
       "\n",
       "[5 rows x 27 columns]"
      ]
     },
     "execution_count": 48,
     "metadata": {},
     "output_type": "execute_result"
    }
   ],
   "source": [
    "# take a sneak peak at the first 5 rows\n",
    "df.head()     "
   ]
  },
  {
   "cell_type": "markdown",
   "metadata": {},
   "source": [
    "## Next Step : Build a Simple Regression Model\n",
    "\n",
    "With a couple lines of code, we now have the season totals for all 466 players in the NBA. Now we can use sklearn to build a simple linear regression model. There's a lot of great information in our data, but we only need 2 variables: Field Goal Attempts (FGA) and total points. So, we will isolate that data and build from there."
   ]
  },
  {
   "cell_type": "code",
   "execution_count": 49,
   "metadata": {},
   "outputs": [],
   "source": [
    "# First we need to get per game stats.\n",
    "# We divide each variable by games played (GP) to get per game average\n",
    "x, y = df.FGA/df.GP, df.PTS/df.GP \n",
    "\n",
    "x = np.array(x).reshape(-1,1)     # we have to reshape our array from 1d to 2d. \n",
    "y = np.array(y).reshape(-1,1)     # The proper shaped array is an input requirement for the linear model\n",
    "                                  # reshaping is usually an issue when using 1 x variable"
   ]
  },
  {
   "cell_type": "code",
   "execution_count": 50,
   "metadata": {},
   "outputs": [],
   "source": [
    "model = linear_model.LinearRegression()    # create an object that contains the linear model class\n",
    "model.fit(x,y)                             # Fit our modeling using FGA (x) and PPG (y)\n",
    "\n",
    "r2 = round(model.score(x,y), 2)            # Get our r2 value and round it to 2 decimals. How much variance is exaplained?\n",
    "predicted_y = model.predict(x)             # Get our predicted y values for x"
   ]
  },
  {
   "cell_type": "markdown",
   "metadata": {},
   "source": [
    "### A Functional Model\n",
    "We have created, trained, and made predictions using our model. If we wanted a more robust model, we would have taken a couple more steps -- both during data selection and model creation. For one, we would typically try to visualize our data, clean it, and do some feature engineering before we train our model. Feature engineering is a fancy word for creating new variables with the data we already have. That way, we know we are using a quality selection of x-variables to predict our y-variable. \n",
    "\n",
    "Second, we would normally want to test the accuracy of our model on a test set of data that was not used to train our model. We do this to make sure that our model is not overfit. An overfit model would be good at making predictions on the training data but not as accurate with new data. This is less than useful since we don't need predictions for data we already have. Using a test dataset to validate our model is called cross-validation. Typically, to do this, we split our original data into two different dataframes. The first, our training data, would contain a random sample of 85% of the original data. The test set would contain the remaining 15%. We train with the training data and then test with the test data. Simple enough.\n",
    "\n",
    "\n",
    "## Visualize our Results\n",
    "It's always good practice to visualize your model so that you can see how it's performing. Linear regression can be easily visualized using a scatter plot for the actual y-values and a line for the predicted y-values. We'll use Matplotlib -- the most popular visualization package -- but there are a handful of alternatives. For readability, we'll create our graph line-by-line. Each line of code will add a new feature to our graph like our scatter points or our labels. \n",
    "\n",
    "You might have to change the location of the text depending on the scoring numbers of players during the season that you are doing this project.\n"
   ]
  },
  {
   "cell_type": "code",
   "execution_count": 51,
   "metadata": {},
   "outputs": [
    {
     "data": {
      "image/png": "[encoded data removed]",
      "text/plain": [
       "<Figure size 432x288 with 1 Axes>"
      ]
     },
     "metadata": {
      "needs_background": "light"
     },
     "output_type": "display_data"
    }
   ],
   "source": [
    "# Now, lets make a plot with matplot lib using a iterative approach (which is easy to read)\n",
    "\n",
    "plt.scatter(x, y, s=15, alpha=.5)                            # Scatterplot:  Specfiy size(s) and transparency(alpha) of dots\n",
    "plt.plot(x, predicted_y, color = 'black')                    # line: Add line for regression line w/ predicted values\n",
    "plt.title('NBA - Relationship Between FGA and PPG')          # Give it a title\n",
    "plt.xlabel('FGA per Game')                                   # Label x-axis\n",
    "plt.ylabel('Points Per Game')                                # Label y-axis\n",
    "plt.text(10,25, f'R2={r2}')                                  # 10, 25 are the coordinates for our text. Adjust accordingly\n",
    "\n",
    "\n",
    "\"\"\" It looks like one player is far from the pack on offense. We should annotate that point! \n",
    "    We know that the first x-value in our dataset ( the first row ) is the highest scoring player\n",
    "    because of the .head() that we used earlier. So we can use x[0] and y[0] since this refers to the first row\n",
    "\"\"\"\n",
    "                                              \n",
    "plt.annotate(df.PLAYER[0],                       # This the name of the top scoring player. Refer to the .head() from earlier\n",
    "             (x[0], y[0]),                       # This is the point we want to annotate.  \n",
    "             (x[0]-7,y[0]-2),                    # These are coords for the text\n",
    "             arrowprops=dict(arrowstyle='-'))    # Here we use a flat line for the arrow '-'\n",
    "\n",
    "\n",
    "# Finally, let's save an image called 'graph.png'. We'll set the dpi (dots per inch) to 300, so we have a nice looking picture.\n",
    "plt.savefig('graph.png', dpi=300) \n"
   ]
  },
  {
   "cell_type": "markdown",
   "metadata": {},
   "source": [
    "#### Conclusion\n",
    "\n",
    "Unsurprisingly, if a basketball player takes more shots during a game, they tend to score more points. This is an obvious idea, but our graph shows us several other interesting patterns:\n",
    "\n",
    "* We can visually see that most players in the league take ~7 or fewer shots per game. \n",
    "* Players who take a high volume of shots per game (17+) start to perform better than what the model predicts.\n",
    "\n",
    "We can think of it this way: Players who are really good at scoring are allowed to take more shots. These players are more efficient than the average; therefore, our linear model is not as good at predicting their points scored.\n"
   ]
  },
  {
   "cell_type": "markdown",
   "metadata": {},
   "source": [
    "### Congratulations! \n",
    "Using what you learned from this model, you should be able to start exploring the interesting datasets on NBA.com. A good first step is to expand this model. Try including more x-variables into your model and see how that changes the predictions or the line of fit."
   ]
  }
 ],
 "metadata": {
  "kernelspec": {
   "display_name": "Python 3",
   "language": "python",
   "name": "python3"
  },
  "language_info": {
   "codemirror_mode": {
    "name": "ipython",
    "version": 3
   },
   "file_extension": ".py",
   "mimetype": "text/x-python",
   "name": "python",
   "nbconvert_exporter": "python",
   "pygments_lexer": "ipython3",
   "version": "3.7.4"
  }
 },
 "nbformat": 4,
 "nbformat_minor": 4
}
